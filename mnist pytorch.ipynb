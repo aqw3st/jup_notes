{
 "cells": [
  {
   "cell_type": "code",
   "execution_count": 1,
   "id": "a08c6dea",
   "metadata": {},
   "outputs": [
    {
     "name": "stdout",
     "output_type": "stream",
     "text": [
      "Populating the interactive namespace from numpy and matplotlib\n"
     ]
    }
   ],
   "source": [
    "%pylab inline\n",
    "import numpy as np\n",
    "from tqdm import trange\n",
    "np.set_printoptions(suppress=True)"
   ]
  },
  {
   "cell_type": "code",
   "execution_count": 2,
   "id": "ffdfbf03",
   "metadata": {},
   "outputs": [],
   "source": [
    "# load the mnist dataset\n",
    "def fetch(url):\n",
    "  import requests, gzip, os, hashlib, numpy\n",
    "  fp = os.path.join(\"/tmp\", hashlib.md5(url.encode('utf-8')).hexdigest())\n",
    "  if os.path.isfile(fp):\n",
    "    with open(fp, \"rb\") as f:\n",
    "      dat = f.read()\n",
    "  else:\n",
    "    with open(fp, \"wb\") as f:\n",
    "      dat = requests.get(url).content\n",
    "      f.write(dat)\n",
    "  return numpy.frombuffer(gzip.decompress(dat), dtype=np.uint8).copy()\n",
    "X_train = fetch(\"http://yann.lecun.com/exdb/mnist/train-images-idx3-ubyte.gz\")[0x10:].reshape((-1, 28, 28))\n",
    "Y_train = fetch(\"http://yann.lecun.com/exdb/mnist/train-labels-idx1-ubyte.gz\")[8:]\n",
    "X_test = fetch(\"http://yann.lecun.com/exdb/mnist/t10k-images-idx3-ubyte.gz\")[0x10:].reshape((-1, 28, 28))\n",
    "Y_test = fetch(\"http://yann.lecun.com/exdb/mnist/t10k-labels-idx1-ubyte.gz\")[8:]"
   ]
  },
  {
   "cell_type": "code",
   "execution_count": 3,
   "id": "9aa18270",
   "metadata": {},
   "outputs": [
    {
     "name": "stdout",
     "output_type": "stream",
     "text": [
      "Using cpu device\n"
     ]
    }
   ],
   "source": [
    "# build the neural network\n",
    "import os\n",
    "import torch\n",
    "import torch.nn.functional as F\n",
    "from torch import nn\n",
    "device = \"cuda\" if torch.cuda.is_available() else \"cpu\"\n",
    "print(f\"Using {device} device\")"
   ]
  },
  {
   "cell_type": "code",
   "execution_count": 4,
   "id": "4640f1ef",
   "metadata": {},
   "outputs": [],
   "source": [
    "# optimizers\n",
    "\n",
    "class Optimizer:\n",
    "  def __init__(self, params):\n",
    "    self.params = [x for x in params]\n",
    "\n",
    "  def zero_grad(self):\n",
    "    for param in self.params:\n",
    "      param.grad = None\n",
    "      \n",
    "class SGD(Optimizer):\n",
    "  def __init__(self, params, lr=0.001):\n",
    "    super().__init__(params)\n",
    "    self.lr = lr\n",
    "\n",
    "  def step(self):\n",
    "    with torch.no_grad():\n",
    "      for t in self.params:\n",
    "        t -= t.grad * self.lr\n",
    "\n",
    "class Adam(Optimizer):\n",
    "  def __init__(self, params, lr=0.001, b1=0.9, b2=0.999, eps=1e-8):\n",
    "    super().__init__(params)\n",
    "    self.lr, self.b1, self.b2, self.eps, self.t = lr, b1, b2, eps, 0\n",
    "    self.m = [torch.zeros(*t.shape, requires_grad=False) for t in self.params]\n",
    "    self.v = [torch.zeros(*t.shape, requires_grad=False) for t in self.params]\n",
    "\n",
    "  def step(self):\n",
    "    with torch.no_grad():\n",
    "      self.t = self.t + 1\n",
    "      a = self.lr * ((1.0 - self.b2**self.t)**0.5) / (1.0 - self.b1**self.t)\n",
    "      for i, t in enumerate(self.params):\n",
    "        self.m[i] = self.b1 * self.m[i] + (1.0 - self.b1) * t.grad\n",
    "        self.v[i] = self.b2 * self.v[i] + (1.0 - self.b2) * t.grad * t.grad\n",
    "        t -= a * self.m[i].div(self.v[i].sqrt() + self.eps)"
   ]
  },
  {
   "cell_type": "code",
   "execution_count": 5,
   "id": "dbc75995",
   "metadata": {},
   "outputs": [],
   "source": [
    "class Model(nn.Module):\n",
    "  def __init__(self):\n",
    "    super(Model, self).__init__()\n",
    "    self.flatten = nn.Flatten()\n",
    "    self.linear_relu_stack = nn.Sequential(\n",
    "      nn.Linear(28*28, 512),\n",
    "      nn.ReLU(),\n",
    "      nn.Linear(512, 512),\n",
    "      nn.ReLU(),\n",
    "      nn.Linear(512,10),\n",
    "    )\n",
    "  \n",
    "  def forward(self, x):\n",
    "    x = self.flatten(x)\n",
    "    logits = self.linear_relu_stack(x)\n",
    "    return logits"
   ]
  },
  {
   "cell_type": "code",
   "execution_count": 6,
   "id": "a443e29b",
   "metadata": {},
   "outputs": [
    {
     "name": "stdout",
     "output_type": "stream",
     "text": [
      "Net(\n",
      "  (conv1): Conv2d(1, 6, kernel_size=(5, 5), stride=(1, 1))\n",
      "  (conv2): Conv2d(6, 28, kernel_size=(5, 5), stride=(1, 1))\n",
      "  (fc1): Linear(in_features=448, out_features=120, bias=True)\n",
      "  (fc2): Linear(in_features=120, out_features=84, bias=True)\n",
      "  (fc3): Linear(in_features=84, out_features=10, bias=True)\n",
      ")\n"
     ]
    }
   ],
   "source": [
    "class LeNet(nn.Module):\n",
    "    def __init__(self):\n",
    "        super(Net, self).__init__()\n",
    "        self.conv1 = nn.Conv2d(1, 6, 5)\n",
    "        self.conv2 = nn.Conv2d(6, 28, 5)\n",
    "        \n",
    "        self.fc1 = nn.Linear(28 * 4 * 4, 120)\n",
    "        self.fc2 = nn.Linear(120, 84)\n",
    "        self.fc3 = nn.Linear(84, 10)\n",
    "\n",
    "    def forward(self, x):\n",
    "        x = F.max_pool2d(F.relu(self.conv1(x)), (2, 2))\n",
    "        x = F.max_pool2d(F.relu(self.conv2(x)), (2, 2))\n",
    "        x = x.view(x.size()[0], -1)\n",
    "        x = F.relu(self.fc1(x))\n",
    "        x = F.relu(self.fc2(x))\n",
    "        x = self.fc3(x)\n",
    "\n",
    "        return x\n",
    "print(LeNet())"
   ]
  },
  {
   "cell_type": "code",
   "execution_count": 7,
   "id": "2cf64e18",
   "metadata": {},
   "outputs": [
    {
     "name": "stderr",
     "output_type": "stream",
     "text": [
      "Loss 0.10 Accuracy 0.97: 100%|██████████| 1000/1000 [00:07<00:00, 128.09it/s]\n"
     ]
    },
    {
     "data": {
      "text/plain": [
       "[<matplotlib.lines.Line2D at 0x12ea95a90>]"
      ]
     },
     "execution_count": 7,
     "metadata": {},
     "output_type": "execute_result"
    },
    {
     "data": {
      "image/png": "[encoded data removed]",
      "text/plain": [
       "<Figure size 432x288 with 1 Axes>"
      ]
     },
     "metadata": {
      "needs_background": "light"
     },
     "output_type": "display_data"
    }
   ],
   "source": [
    "model = LeNet()\n",
    "#training\n",
    "losses, accuracies = [],[]\n",
    "loss_fn = nn.CrossEntropyLoss(reduction='mean')\n",
    "# optimizer = torch.optim.SGD(model.parameters(), lr=0.001, momentum = 0)\n",
    "optimizer = Adam(model.parameters())\n",
    "for i in (t:=trange(1000)):\n",
    "  samp = np.random.randint(0, X_train.shape[0], 32)\n",
    "  X = torch.from_numpy(X_train[samp]).unsqueeze(1).float()\n",
    "  y = torch.from_numpy(Y_train[samp])\n",
    "  model.zero_grad()\n",
    "  #pred and loss\n",
    "  pred = model(X)\n",
    "  pred_x = torch.argmax(pred, dim=1)\n",
    "  accuracy = (pred_x == y).float().mean()\n",
    "  loss = loss_fn(pred, y)\n",
    "#   loss = loss.mean()  ==  reduction='mean'\n",
    "  \n",
    "  #back propagation\n",
    "  optimizer.zero_grad()\n",
    "  loss.backward()\n",
    "  optimizer.step()\n",
    "  \n",
    "  losses.append(loss.item())\n",
    "  accuracies.append(accuracy.item())\n",
    "  t.set_description(\"Loss %.2f Accuracy %.2f\" % (loss, accuracy))\n",
    "#plot\n",
    "plt.ylim(0, 1)\n",
    "plot(losses)\n",
    "plot(accuracies)"
   ]
  },
  {
   "cell_type": "code",
   "execution_count": 8,
   "id": "27138dd8",
   "metadata": {},
   "outputs": [
    {
     "name": "stderr",
     "output_type": "stream",
     "text": [
      "<ipython-input-8-bc80bb343b01>:6: UserWarning: To copy construct from a tensor, it is recommended to use sourceTensor.clone().detach() or sourceTensor.clone().detach().requires_grad_(True), rather than torch.tensor(sourceTensor).\n",
      "  Y_test_preds = torch.argmax(model(torch.tensor(torch.from_numpy(X_test)).unsqueeze(1).float()), dim=1).numpy()\n"
     ]
    },
    {
     "data": {
      "text/plain": [
       "0.9779"
      ]
     },
     "execution_count": 8,
     "metadata": {},
     "output_type": "execute_result"
    }
   ],
   "source": [
    "### model\n",
    "# Y_test_preds = torch.argmax(model(torch.tensor(X_test.reshape((-1, 28*28))).double()), dim=1).numpy()\n",
    "# (Y_test == Y_test_preds).mean()\n",
    "\n",
    "### for LeNet\n",
    "Y_test_preds = torch.argmax(model(torch.tensor(torch.from_numpy(X_test)).unsqueeze(1).float()), dim=1).numpy()\n",
    "(Y_test == Y_test_preds).mean()"
   ]
  },
  {
   "cell_type": "code",
   "execution_count": 54,
   "id": "6f104ebb",
   "metadata": {},
   "outputs": [
    {
     "data": {
      "text/plain": [
       "(<matplotlib.image.AxesImage at 0x12f37be20>, 6)"
      ]
     },
     "execution_count": 54,
     "metadata": {},
     "output_type": "execute_result"
    },
    {
     "data": {
      "image/png": "[encoded data removed]",
      "text/plain": [
       "<Figure size 432x288 with 1 Axes>"
      ]
     },
     "metadata": {
      "needs_background": "light"
     },
     "output_type": "display_data"
    }
   ],
   "source": [
    "i = int(np.random.randint(0,X_test.shape, 1))\n",
    "imshow(X_test[i]), Y_test_preds[i]"
   ]
  },
  {
   "cell_type": "code",
   "execution_count": null,
   "id": "cf793bfb",
   "metadata": {},
   "outputs": [],
   "source": []
  }
 ],
 "metadata": {
  "kernelspec": {
   "display_name": "Python 3",
   "language": "python",
   "name": "python3"
  },
  "language_info": {
   "codemirror_mode": {
    "name": "ipython",
    "version": 3
   },
   "file_extension": ".py",
   "mimetype": "text/x-python",
   "name": "python",
   "nbconvert_exporter": "python",
   "pygments_lexer": "ipython3",
   "version": "3.9.7"
  }
 },
 "nbformat": 4,
 "nbformat_minor": 5
}
